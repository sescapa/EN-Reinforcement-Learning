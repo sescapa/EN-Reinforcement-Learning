{
 "cells": [
  {
   "cell_type": "markdown",
   "metadata": {},
   "source": [
    "# Reinforcement Learning 101: Introduction"
   ]
  },
  {
   "cell_type": "markdown",
   "metadata": {},
   "source": [
    "## Table of Content"
   ]
  },
  {
   "cell_type": "markdown",
   "metadata": {},
   "source": [
    "1. Introduction\n",
    "    1. Limits of Supervised and Unsupervised Learning\n",
    "    2. Reinforcement Learning Concepts\n",
    "    3. Environment in Python\n",
    "2. Solutions\n",
    "    1. Bellman Equation and Q-Learning\n",
    "    2. Monte-Carlo and Temporal Difference Learning\n",
    "    3. Trade-off exploration and exploitation\n",
    "3. References"
   ]
  },
  {
   "cell_type": "code",
   "execution_count": null,
   "metadata": {
    "scrolled": true
   },
   "outputs": [],
   "source": [
    "%matplotlib inline\n",
    "import gym\n",
    "import pandas as pd\n",
    "import numpy as np\n",
    "import matplotlib.pyplot as plt\n",
    "from sklearn import cluster, datasets\n",
    "\n",
    "from IPython.core.display import HTML"
   ]
  },
  {
   "cell_type": "markdown",
   "metadata": {},
   "source": [
    "# Introduction"
   ]
  },
  {
   "cell_type": "markdown",
   "metadata": {},
   "source": [
    "## A. Limits of Supervised and Unsupervised Learning"
   ]
  },
  {
   "cell_type": "code",
   "execution_count": null,
   "metadata": {},
   "outputs": [],
   "source": [
    "iris = datasets.load_iris()\n",
    "X_iris = iris.data\n",
    "y_iris = iris.target\n",
    "\n",
    "k_means = cluster.KMeans(n_clusters=3)\n",
    "k_means.fit(X_iris) \n",
    "predicted_y = k_means.predict(X_iris)\n",
    "\n",
    "color = ['r','b','g']\n",
    "for n in range(X_iris.shape[0]):\n",
    "    plt.scatter(X_iris[n,[0,1]], X_iris[n,[0,2]], color = color[predicted_y[n]]);"
   ]
  },
  {
   "cell_type": "markdown",
   "metadata": {},
   "source": [
    "Supervised and Unsupervised Learning are one of the most predominant fields of research and industry application since the early 1980s. A lot of the application, such as recommender systems, churn, image recognition and voice translation, have been build on top of Supervised/Unsupervised Learning algorithms. With more data and cheaper computing power through the cloud, companies like Netflix, Airbnb and Uber have been able to become staple companies."
   ]
  },
  {
   "cell_type": "markdown",
   "metadata": {},
   "source": [
    "While some algorithms can use supervised/unsupervised learning to bring business value, it can only be applied to certain kinds of problems. To understand this concept more concretely, let us look at an example."
   ]
  },
  {
   "cell_type": "code",
   "execution_count": 3,
   "metadata": {
    "scrolled": false
   },
   "outputs": [
    {
     "data": {
      "image/png": "[encoded data removed]",
      "text/plain": [
       "<matplotlib.figure.Figure at 0x120821048>"
      ]
     },
     "metadata": {},
     "output_type": "display_data"
    }
   ],
   "source": [
    "field = np.zeros((1,3,3))\n",
    "field[0,0,0] = 50\n",
    "field[0,0,1] = 0\n",
    "field[0,0,2] = 0\n",
    "\n",
    "field[0,1,0] = 1\n",
    "field[0,1,1] = 1\n",
    "field[0,1,2] = 1\n",
    "\n",
    "field[0,2,0] = 0\n",
    "field[0,2,1] = 20\n",
    "field[0,2,2] = 50\n",
    "\n",
    "fig = plt.gcf()\n",
    "ax = fig.gca()\n",
    "\n",
    "\n",
    "ballCircle = plt.Circle((1,0),0.2, color = 'k', fill = False)\n",
    "plt.imshow(field, cmap = None)\n",
    "ax.add_artist(ballCircle)\n",
    "plt.axis('off')\n",
    "ax.grid()\n",
    "plt.show()"
   ]
  },
  {
   "cell_type": "markdown",
   "metadata": {},
   "source": [
    "In here we have a grid, and the circle has two actions to take. Go Left or go Right. Let also say the following: if the circle gets to the turquoise block, it receives \\$10. If it falls in the red block, it will have to pay a penalty of \\$10 (-10). Let us also say that if the circle lands in any of these two blocks, the events ends, meaning that it cannot take any more actions.\n",
    "\n",
    "The dataset will look like the following"
   ]
  },
  {
   "cell_type": "code",
   "execution_count": 4,
   "metadata": {},
   "outputs": [
    {
     "data": {
      "text/html": [
       "<div>\n",
       "<style scoped>\n",
       "    .dataframe tbody tr th:only-of-type {\n",
       "        vertical-align: middle;\n",
       "    }\n",
       "\n",
       "    .dataframe tbody tr th {\n",
       "        vertical-align: top;\n",
       "    }\n",
       "\n",
       "    .dataframe thead th {\n",
       "        text-align: right;\n",
       "    }\n",
       "</style>\n",
       "<table border=\"1\" class=\"dataframe\">\n",
       "  <thead>\n",
       "    <tr style=\"text-align: right;\">\n",
       "      <th></th>\n",
       "      <th>action</th>\n",
       "      <th>reward</th>\n",
       "    </tr>\n",
       "  </thead>\n",
       "  <tbody>\n",
       "    <tr>\n",
       "      <th>0</th>\n",
       "      <td>Right</td>\n",
       "      <td>10</td>\n",
       "    </tr>\n",
       "    <tr>\n",
       "      <th>1</th>\n",
       "      <td>Left</td>\n",
       "      <td>-10</td>\n",
       "    </tr>\n",
       "    <tr>\n",
       "      <th>2</th>\n",
       "      <td>Right</td>\n",
       "      <td>10</td>\n",
       "    </tr>\n",
       "    <tr>\n",
       "      <th>3</th>\n",
       "      <td>Right</td>\n",
       "      <td>10</td>\n",
       "    </tr>\n",
       "    <tr>\n",
       "      <th>4</th>\n",
       "      <td>Right</td>\n",
       "      <td>-10</td>\n",
       "    </tr>\n",
       "  </tbody>\n",
       "</table>\n",
       "</div>"
      ],
      "text/plain": [
       "  action  reward\n",
       "0  Right      10\n",
       "1   Left     -10\n",
       "2  Right      10\n",
       "3  Right      10\n",
       "4  Right     -10"
      ]
     },
     "execution_count": 4,
     "metadata": {},
     "output_type": "execute_result"
    }
   ],
   "source": [
    "df = pd.DataFrame({'action': ['Right','Left','Right','Right','Right'], \n",
    "              'reward': [10,-10,10,10,-10]})\n",
    "\n",
    "df\n"
   ]
  },
  {
   "cell_type": "markdown",
   "metadata": {},
   "source": [
    "So far, very easy right? We can do a simple logistic regression and find out what is the best action to take. Now, let us complicate things just a little bit."
   ]
  },
  {
   "cell_type": "code",
   "execution_count": 5,
   "metadata": {},
   "outputs": [
    {
     "data": {
      "image/png": "[encoded data removed]",
      "text/plain": [
       "<matplotlib.figure.Figure at 0x120818e80>"
      ]
     },
     "metadata": {},
     "output_type": "display_data"
    }
   ],
   "source": [
    "field = np.zeros((2,3,3))\n",
    "field[0,0,0] = 50\n",
    "field[0,0,1] = 0\n",
    "field[0,0,2] = 0\n",
    "\n",
    "field[0,1,0] = 10\n",
    "field[0,1,1] = 10\n",
    "field[0,1,2] = 10\n",
    "\n",
    "field[1,1,0] = 10\n",
    "field[1,1,1] = 10\n",
    "field[1,1,2] = 10\n",
    "\n",
    "field[0,2,0] = 0\n",
    "field[0,2,1] = 20\n",
    "field[0,2,2] = 50\n",
    "\n",
    "fig = plt.gcf()\n",
    "ax = fig.gca()\n",
    "\n",
    "ballCircle = plt.Circle((1,0),0.2, color = 'k', fill = False)\n",
    "plt.imshow(field, cmap = None)\n",
    "ax.add_artist(ballCircle)\n",
    "ax.grid()\n",
    "plt.axis('off')\n",
    "plt.show()"
   ]
  },
  {
   "cell_type": "markdown",
   "metadata": {},
   "source": [
    "Here, the agent can take two additional actions on top of going Left or Right. It can go up and down. Also, we added a small island (second row, second column) where it can go. The black is prohibited can never enter. Another caviat is that the agent can still take actions until it reaches blue/red blocks.\n",
    "\n",
    "This means that it can take different actions lengths. It can be \"Right\", \"Left\", \"Up, Up, Right\", \"Up,Down,Up,Up,Down,[...], Down, Up, Right\". We end up with a dataset that looks like this"
   ]
  },
  {
   "cell_type": "code",
   "execution_count": 6,
   "metadata": {},
   "outputs": [
    {
     "data": {
      "text/html": [
       "<div>\n",
       "<style scoped>\n",
       "    .dataframe tbody tr th:only-of-type {\n",
       "        vertical-align: middle;\n",
       "    }\n",
       "\n",
       "    .dataframe tbody tr th {\n",
       "        vertical-align: top;\n",
       "    }\n",
       "\n",
       "    .dataframe thead th {\n",
       "        text-align: right;\n",
       "    }\n",
       "</style>\n",
       "<table border=\"1\" class=\"dataframe\">\n",
       "  <thead>\n",
       "    <tr style=\"text-align: right;\">\n",
       "      <th></th>\n",
       "      <th>action</th>\n",
       "      <th>reward</th>\n",
       "    </tr>\n",
       "  </thead>\n",
       "  <tbody>\n",
       "    <tr>\n",
       "      <th>0</th>\n",
       "      <td>Left</td>\n",
       "      <td>-10</td>\n",
       "    </tr>\n",
       "    <tr>\n",
       "      <th>1</th>\n",
       "      <td>Up,Down,Up,Right</td>\n",
       "      <td>10</td>\n",
       "    </tr>\n",
       "    <tr>\n",
       "      <th>2</th>\n",
       "      <td>Left</td>\n",
       "      <td>10</td>\n",
       "    </tr>\n",
       "    <tr>\n",
       "      <th>3</th>\n",
       "      <td>Down,Down,Down,Up,Right</td>\n",
       "      <td>10</td>\n",
       "    </tr>\n",
       "    <tr>\n",
       "      <th>4</th>\n",
       "      <td>Up,Up,Left</td>\n",
       "      <td>-10</td>\n",
       "    </tr>\n",
       "  </tbody>\n",
       "</table>\n",
       "</div>"
      ],
      "text/plain": [
       "                    action  reward\n",
       "0                     Left     -10\n",
       "1         Up,Down,Up,Right      10\n",
       "2                     Left      10\n",
       "3  Down,Down,Down,Up,Right      10\n",
       "4               Up,Up,Left     -10"
      ]
     },
     "execution_count": 6,
     "metadata": {},
     "output_type": "execute_result"
    }
   ],
   "source": [
    "pd.DataFrame({'action': ['Left','Up,Down,Up,Right','Left','Down,Down,Down,Up,Right','Up,Up,Left'], \n",
    "              'reward': [-10,10,10,10,-10]})"
   ]
  },
  {
   "cell_type": "markdown",
   "metadata": {},
   "source": [
    "We get data that is not uniform. The length of the input is inconsistent. And this gets worse when there are hundreds of possible moves. We end-up with possibly an infinite input, which is something that supervised/unsupervised learning cannot solve.\n",
    "\n",
    "Another limitation is the initial conditions. What would happen if the agent is in the bottom cell at the beginning? Will it be able to find it's way out?\n",
    "\n",
    "This is one of the many limitations that supervised/unsupervised learning has. It cannot map out a lot of these decision making processes. In order to do this kind of things, we need to look at Reinforcement Learning"
   ]
  },
  {
   "cell_type": "markdown",
   "metadata": {},
   "source": [
    "## B. Reinforcement Learning"
   ]
  },
  {
   "cell_type": "markdown",
   "metadata": {},
   "source": [
    "<img src=\"RLCycle.png\" alt=\"Reinforcement Learning Cycle\" class=\"center\">\n",
    "<center> **Figure 1**: Reinforcement Learning Cycle</center>"
   ]
  },
  {
   "cell_type": "markdown",
   "metadata": {},
   "source": []
  }
 ],
 "metadata": {
  "kernelspec": {
   "display_name": "Python 3",
   "language": "python",
   "name": "python3"
  },
  "language_info": {
   "codemirror_mode": {
    "name": "ipython",
    "version": 3
   },
   "file_extension": ".py",
   "mimetype": "text/x-python",
   "name": "python",
   "nbconvert_exporter": "python",
   "pygments_lexer": "ipython3",
   "version": "3.6.8"
  }
 },
 "nbformat": 4,
 "nbformat_minor": 2
}
